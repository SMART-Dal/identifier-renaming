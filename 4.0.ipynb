{
 "cells": [
  {
   "cell_type": "code",
   "execution_count": 1,
   "id": "7a478c86",
   "metadata": {
    "ExecuteTime": {
     "end_time": "2023-09-03T02:00:37.788411Z",
     "start_time": "2023-09-03T02:00:37.188436Z"
    }
   },
   "outputs": [],
   "source": [
    "import requests\n",
    "import pandas as pd\n",
    "import numpy\n",
    "from collections import defaultdict\n",
    "import re\n",
    "import shutil\n",
    "import os\n",
    "import time\n",
    "import random"
   ]
  },
  {
   "cell_type": "code",
   "execution_count": 2,
   "id": "61571547",
   "metadata": {
    "ExecuteTime": {
     "end_time": "2023-09-03T02:00:37.791119Z",
     "start_time": "2023-09-03T02:00:37.789745Z"
    }
   },
   "outputs": [],
   "source": [
    "t = 2239"
   ]
  },
  {
   "cell_type": "code",
   "execution_count": 3,
   "id": "5d7eda84",
   "metadata": {
    "ExecuteTime": {
     "end_time": "2023-09-03T02:01:31.428153Z",
     "start_time": "2023-09-03T02:01:31.411616Z"
    }
   },
   "outputs": [],
   "source": [
    "def download_java_files(url, path):\n",
    "    global t\n",
    "    random_delay = random.randint(10, 20)\n",
    "    print(random_delay)\n",
    "    time.sleep(random_delay)\n",
    "    # Send GET request to retrieve the folder contents\n",
    "    response = requests.get(url, params={\"ref\": branch})\n",
    "    if response.status_code == 200:\n",
    "        # Parse the response JSON\n",
    "        contents = response.json()\n",
    "\n",
    "        for item in contents:\n",
    "            if item[\"type\"] == \"file\" and item[\"name\"].endswith(\".java\"):\n",
    "                # Download Java file\n",
    "                download_url = item[\"download_url\"]\n",
    "                file_name = \"train_\"+str(t)\n",
    "                output_file_path = f\"Dataset/inp-txt/{file_name}\"\n",
    "\n",
    "                # Send GET request to download the file content\n",
    "                file_content = requests.get(download_url).text\n",
    "\n",
    "                # Save the file to the output directory\n",
    "                with open(output_file_path, \"w\") as output_file:\n",
    "                    output_file.write(file_content)\n",
    "\n",
    "                print(f\"Downloaded: {file_name}\")\n",
    "                t+=1\n",
    "            elif item[\"type\"] == \"dir\":\n",
    "                # Recursively navigate into subfolders\n",
    "                subfolder_url = item[\"url\"]\n",
    "                subfolder_path = f\"{path}/{item['name']}\"\n",
    "                download_java_files(subfolder_url, subfolder_path)\n",
    "    else:\n",
    "        print(\"Failed to retrieve folder contents.\")"
   ]
  },
  {
   "cell_type": "code",
   "execution_count": null,
   "id": "dafd2b43",
   "metadata": {
    "ExecuteTime": {
     "start_time": "2023-09-03T02:13:07.612Z"
    }
   },
   "outputs": [
    {
     "name": "stdout",
     "output_type": "stream",
     "text": [
      "17\n",
      "14\n",
      "10\n",
      "10\n",
      "20\n",
      "16\n",
      "15\n",
      "14\n",
      "19\n",
      "20\n",
      "19\n",
      "10\n",
      "18\n",
      "17\n",
      "13\n",
      "15\n",
      "17\n",
      "17\n",
      "15\n",
      "13\n",
      "14\n",
      "14\n",
      "15\n"
     ]
    }
   ],
   "source": [
    "# GitHub repository details\n",
    "repo = \"lottie-android\"\n",
    "owner = \"airbnb\"\n",
    "branch = \"master\"  # Specify the branch you want to download from\n",
    "output_directory = \"/Dataset/inp-txt\"  # Specify the directory to save the downloaded files\n",
    "\n",
    "# API endpoint to get the list of files in the repository\n",
    "url = f\"https://api.github.com/repos/{owner}/{repo}/contents\"\n",
    "download_java_files(url, output_directory)\n",
    "print(t)"
   ]
  },
  {
   "cell_type": "code",
   "execution_count": null,
   "id": "285f5871",
   "metadata": {},
   "outputs": [],
   "source": []
  }
 ],
 "metadata": {
  "kernelspec": {
   "display_name": "Python 3.10 (tensorflown)",
   "language": "python",
   "name": "tensorflown"
  },
  "language_info": {
   "codemirror_mode": {
    "name": "ipython",
    "version": 3
   },
   "file_extension": ".py",
   "mimetype": "text/x-python",
   "name": "python",
   "nbconvert_exporter": "python",
   "pygments_lexer": "ipython3",
   "version": "3.10.12"
  },
  "toc": {
   "base_numbering": 1,
   "nav_menu": {},
   "number_sections": true,
   "sideBar": true,
   "skip_h1_title": false,
   "title_cell": "Table of Contents",
   "title_sidebar": "Contents",
   "toc_cell": false,
   "toc_position": {},
   "toc_section_display": true,
   "toc_window_display": false
  }
 },
 "nbformat": 4,
 "nbformat_minor": 5
}
