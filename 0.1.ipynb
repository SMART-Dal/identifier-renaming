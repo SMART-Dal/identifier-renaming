{
 "cells": [
  {
   "cell_type": "code",
   "execution_count": 1,
   "id": "f9e5f248",
   "metadata": {
    "ExecuteTime": {
     "end_time": "2023-09-07T11:13:47.388180Z",
     "start_time": "2023-09-07T11:13:41.337635Z"
    }
   },
   "outputs": [],
   "source": [
    "import pandas as pd\n",
    "import numpy as np\n",
    "import torch\n",
    "from transformers import RobertaTokenizer, RobertaForSequenceClassification\n",
    "from torch import nn\n",
    "from torch.nn import init, MarginRankingLoss\n",
    "from transformers import BertModel, RobertaModel\n",
    "from transformers import BertTokenizer, RobertaTokenizer\n",
    "from torch.optim import Adam\n",
    "from distutils.version import LooseVersion\n",
    "from torch.utils.data import Dataset, DataLoader\n",
    "from torch.utils.tensorboard import SummaryWriter\n",
    "from datetime import datetime\n",
    "from torch.autograd import Variable\n",
    "from transformers import AutoConfig, AutoModel, AutoTokenizer\n",
    "import nltk\n",
    "import re\n",
    "import Levenshtein\n",
    "import spacy\n",
    "import en_core_web_sm\n",
    "import torch.optim as optim\n",
    "from torch.distributions import Categorical\n",
    "from numpy import linalg as LA\n",
    "from transformers import AutoModelForMaskedLM\n",
    "from nltk.corpus import wordnet\n",
    "import torch.nn.functional as F\n",
    "import random\n",
    "from transformers import get_linear_schedule_with_warmup\n",
    "from sklearn.metrics import precision_recall_fscore_support\n",
    "from nltk.corpus import words as wal\n",
    "from sklearn.utils import resample"
   ]
  },
  {
   "cell_type": "code",
   "execution_count": 3,
   "id": "43d56f97",
   "metadata": {
    "ExecuteTime": {
     "end_time": "2023-09-07T11:13:58.022179Z",
     "start_time": "2023-09-07T11:13:58.014576Z"
    }
   },
   "outputs": [
    {
     "name": "stdout",
     "output_type": "stream",
     "text": [
      "/Users/sanid\n"
     ]
    }
   ],
   "source": [
    "cd"
   ]
  },
  {
   "cell_type": "code",
   "execution_count": null,
   "id": "bb792f45",
   "metadata": {
    "ExecuteTime": {
     "start_time": "2023-09-07T11:13:58.890Z"
    }
   },
   "outputs": [],
   "source": [
    "a = pd.read_csv('dat.csv')"
   ]
  },
  {
   "cell_type": "code",
   "execution_count": 5,
   "id": "1b9645c2",
   "metadata": {
    "ExecuteTime": {
     "end_time": "2023-09-07T10:51:42.667790Z",
     "start_time": "2023-09-07T10:51:42.434455Z"
    }
   },
   "outputs": [],
   "source": [
    "import logging\n",
    "import pandas as pd\n",
    "import numpy as np\n",
    "import gensim\n",
    "import nltk\n",
    "import re\n",
    "from bs4 import BeautifulSoup\n",
    "import csv\n",
    "\n",
    "REPLACE_BY_SPACE_RE = re.compile('[/(){}\\[\\]\\|@,;]')\n",
    "BAD_SYMBOLS_RE = re.compile('[^0-9a-z #+_]')\n",
    "STOPWORDS =nltk.corpus.stopwords.words('english')\n",
    "java_keywords = [\n",
    "    \"abstract\",\n",
    "    \"assert\",\n",
    "    \"boolean\",\n",
    "    \"break\",\n",
    "    \"byte\",\n",
    "    \"case\",\n",
    "    \"catch\",\n",
    "    \"char\",\n",
    "    \"class\",\n",
    "    \"const\",\n",
    "    \"continue\",\n",
    "    \"default\",\n",
    "    \"do\",\n",
    "    \"double\",\n",
    "    \"else\",\n",
    "    \"enum\",\n",
    "    \"extends\",\n",
    "    \"exception\",\n",
    "    \"error\",\n",
    "    \"method\",\n",
    "    \"builder\",\n",
    "    \"null\",\n",
    "    \"one\",\n",
    "    \"two\",\n",
    "    \"three\",\n",
    "    \"array\",\n",
    "    \"callback\",\n",
    "    \"zero\",\n",
    "    \"parameter\",\n",
    "    \"parameters\",\n",
    "    \"final\",\n",
    "    \"finally\",\n",
    "    \"float\",\n",
    "    \"for\",\n",
    "    \"goto\",\n",
    "    \"if\",\n",
    "    \"implements\",\n",
    "    \"import\",\n",
    "    \"instanceof\",\n",
    "    \"int\",\n",
    "    \"interface\",\n",
    "    \"long\",\n",
    "    \"native\",\n",
    "    \"new\",\n",
    "    \"package\",\n",
    "    \"private\",\n",
    "    \"protected\",\n",
    "    \"public\",\n",
    "    \"return\",\n",
    "    \"short\",\n",
    "    \"static\",\n",
    "    \"strictfp\",\n",
    "    \"string\",\n",
    "    \"super\",\n",
    "    \"switch\",\n",
    "    \"synchronized\",\n",
    "    \"this\",\n",
    "    \"throw\",\n",
    "    \"throws\",\n",
    "    \"transient\",\n",
    "    \"try\",\n",
    "    \"void\",\n",
    "    \"volatile\",\n",
    "    \"while\"\n",
    "]\n",
    "\n",
    "def clean_text(text):\n",
    "    text = BeautifulSoup(text, \"lxml\").text # HTML decoding\n",
    "    text = text.lower() # lowercase text\n",
    "    text = REPLACE_BY_SPACE_RE.sub(' ', text) # replace REPLACE_BY_SPACE_RE symbols by space in text\n",
    "    text = BAD_SYMBOLS_RE.sub('', text) # delete symbols which are in BAD_SYMBOLS_RE from text\n",
    "    text = ' '.join(word for word in text.split() if (word not in STOPWORDS and word not in java_keywords)) # delete stopwors from text\n",
    "    return text"
   ]
  },
  {
   "cell_type": "code",
   "execution_count": null,
   "id": "6a01146d",
   "metadata": {
    "ExecuteTime": {
     "start_time": "2023-09-07T10:53:07.058Z"
    }
   },
   "outputs": [
    {
     "name": "stderr",
     "output_type": "stream",
     "text": [
      "/var/folders/jd/ll0by25n4ln09rznyqbztdyw0000gn/T/ipykernel_22415/1338649664.py:81: MarkupResemblesLocatorWarning: The input looks more like a filename than markup. You may want to open this file and pass the filehandle into Beautiful Soup.\n",
      "  text = BeautifulSoup(text, \"lxml\").text # HTML decoding\n"
     ]
    }
   ],
   "source": [
    "a['clean_text'] = a['X'].apply(clean_text)"
   ]
  },
  {
   "cell_type": "code",
   "execution_count": null,
   "id": "13c8bc83",
   "metadata": {
    "ExecuteTime": {
     "start_time": "2023-09-07T11:01:12.339Z"
    }
   },
   "outputs": [],
   "source": [
    "a.to_csv('dat.csv',index=False)"
   ]
  },
  {
   "cell_type": "code",
   "execution_count": null,
   "id": "eb3a86d0",
   "metadata": {},
   "outputs": [],
   "source": []
  }
 ],
 "metadata": {
  "kernelspec": {
   "display_name": "Python 3.10 (tensorflown)",
   "language": "python",
   "name": "tensorflown"
  },
  "language_info": {
   "codemirror_mode": {
    "name": "ipython",
    "version": 3
   },
   "file_extension": ".py",
   "mimetype": "text/x-python",
   "name": "python",
   "nbconvert_exporter": "python",
   "pygments_lexer": "ipython3",
   "version": "3.10.12"
  },
  "toc": {
   "base_numbering": 1,
   "nav_menu": {},
   "number_sections": true,
   "sideBar": true,
   "skip_h1_title": false,
   "title_cell": "Table of Contents",
   "title_sidebar": "Contents",
   "toc_cell": false,
   "toc_position": {},
   "toc_section_display": true,
   "toc_window_display": false
  }
 },
 "nbformat": 4,
 "nbformat_minor": 5
}
