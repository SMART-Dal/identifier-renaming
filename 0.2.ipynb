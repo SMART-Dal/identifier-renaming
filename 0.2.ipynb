{
 "cells": [
  {
   "cell_type": "code",
   "execution_count": 5,
   "id": "410d87fd",
   "metadata": {
    "ExecuteTime": {
     "end_time": "2023-09-07T11:20:17.995834Z",
     "start_time": "2023-09-07T11:20:17.962410Z"
    }
   },
   "outputs": [],
   "source": [
    "import pandas as pd\n",
    "import numpy as np\n",
    "import torch\n",
    "from transformers import RobertaTokenizer, RobertaForSequenceClassification\n",
    "from torch import nn\n",
    "from torch.nn import init, MarginRankingLoss\n",
    "from transformers import BertModel, RobertaModel\n",
    "from transformers import BertTokenizer, RobertaTokenizer\n",
    "from torch.optim import Adam\n",
    "from distutils.version import LooseVersion\n",
    "from torch.utils.data import Dataset, DataLoader\n",
    "from torch.utils.tensorboard import SummaryWriter\n",
    "from datetime import datetime\n",
    "from torch.autograd import Variable\n",
    "from transformers import AutoConfig, AutoModel, AutoTokenizer\n",
    "import nltk\n",
    "import re\n",
    "import Levenshtein\n",
    "import spacy\n",
    "import en_core_web_sm\n",
    "import torch.optim as optim\n",
    "from torch.distributions import Categorical\n",
    "from numpy import linalg as LA\n",
    "from transformers import AutoModelForMaskedLM\n",
    "from nltk.corpus import wordnet\n",
    "import torch.nn.functional as F\n",
    "import random\n",
    "from transformers import get_linear_schedule_with_warmup\n",
    "from sklearn.metrics import precision_recall_fscore_support\n",
    "from nltk.corpus import words as wal\n",
    "from sklearn.utils import resample"
   ]
  },
  {
   "cell_type": "code",
   "execution_count": 7,
   "id": "d8d08f60",
   "metadata": {
    "ExecuteTime": {
     "end_time": "2023-09-07T11:22:46.152384Z",
     "start_time": "2023-09-07T11:20:18.004279Z"
    }
   },
   "outputs": [],
   "source": [
    "a = pd.read_csv('dat.csv')"
   ]
  },
  {
   "cell_type": "code",
   "execution_count": 8,
   "id": "289e3525",
   "metadata": {
    "ExecuteTime": {
     "end_time": "2023-09-07T11:23:33.280045Z",
     "start_time": "2023-09-07T11:23:27.632419Z"
    }
   },
   "outputs": [],
   "source": [
    "tokenizer = AutoTokenizer.from_pretrained(\"microsoft/graphcodebert-base\")\n",
    "trunc = []\n",
    "for r in range(a.shape[0]):\n",
    "    X_init = a['y'][r]\n",
    "    nl = re.findall(r'[A-Z](?:[a-z]+|[A-Z]*(?=[A-Z]|$))|[a-z]+|\\d+', X_init)\n",
    "    lb = ' '.join(nl).lower()\n",
    "    x = tokenizer.tokenize(lb)\n",
    "    le = len(x)\n",
    "    if le >=6:\n",
    "        le = 6\n",
    "    trunc.append(le)\n",
    "a['trunc'] = trunc"
   ]
  },
  {
   "cell_type": "code",
   "execution_count": 9,
   "id": "cf6f17de",
   "metadata": {
    "ExecuteTime": {
     "end_time": "2023-09-07T11:23:33.283995Z",
     "start_time": "2023-09-07T11:23:33.281837Z"
    }
   },
   "outputs": [],
   "source": [
    "df = a"
   ]
  },
  {
   "cell_type": "code",
   "execution_count": 10,
   "id": "2cbf0fed",
   "metadata": {
    "ExecuteTime": {
     "end_time": "2023-09-07T11:23:33.299762Z",
     "start_time": "2023-09-07T11:23:33.285123Z"
    }
   },
   "outputs": [],
   "source": [
    "value_counts = df['trunc'].value_counts()"
   ]
  },
  {
   "cell_type": "code",
   "execution_count": 11,
   "id": "103a6a5e",
   "metadata": {
    "ExecuteTime": {
     "end_time": "2023-09-07T11:23:34.578486Z",
     "start_time": "2023-09-07T11:23:34.544772Z"
    }
   },
   "outputs": [],
   "source": [
    "target_count = value_counts.max()  # You can set a specific target count if needed\n",
    "\n",
    "# Create an empty DataFrame to store the resampled data\n",
    "resampled_df = pd.DataFrame(columns=df.columns)"
   ]
  },
  {
   "cell_type": "code",
   "execution_count": null,
   "id": "a0f8a4c8",
   "metadata": {
    "ExecuteTime": {
     "start_time": "2023-09-07T11:23:36.018Z"
    }
   },
   "outputs": [],
   "source": [
    "for value, count in value_counts.items():\n",
    "    rows_with_value = df[df['trunc'] == value]\n",
    "    if count < target_count:\n",
    "        num_duplicates = target_count - count\n",
    "        duplicated_rows = pd.concat([rows_with_value] * num_duplicates, ignore_index=True)\n",
    "        resampled_df = pd.concat([resampled_df, duplicated_rows], ignore_index=True)\n",
    "    else:\n",
    "        resampled_df = pd.concat([resampled_df, rows_with_value], ignore_index=True)\n",
    "\n",
    "# Save the resampled DataFrame to a CSV file if needed\n"
   ]
  },
  {
   "cell_type": "code",
   "execution_count": null,
   "id": "f6c8a852",
   "metadata": {},
   "outputs": [],
   "source": [
    "resampled_df.to_csv('balanced_classifier.csv',index=False)"
   ]
  }
 ],
 "metadata": {
  "kernelspec": {
   "display_name": "Python 3.10 (tensorflown)",
   "language": "python",
   "name": "tensorflown"
  },
  "language_info": {
   "codemirror_mode": {
    "name": "ipython",
    "version": 3
   },
   "file_extension": ".py",
   "mimetype": "text/x-python",
   "name": "python",
   "nbconvert_exporter": "python",
   "pygments_lexer": "ipython3",
   "version": "3.10.12"
  },
  "toc": {
   "base_numbering": 1,
   "nav_menu": {},
   "number_sections": true,
   "sideBar": true,
   "skip_h1_title": false,
   "title_cell": "Table of Contents",
   "title_sidebar": "Contents",
   "toc_cell": false,
   "toc_position": {},
   "toc_section_display": true,
   "toc_window_display": false
  }
 },
 "nbformat": 4,
 "nbformat_minor": 5
}
