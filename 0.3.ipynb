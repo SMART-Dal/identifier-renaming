{
 "cells": [
  {
   "cell_type": "code",
   "execution_count": 9,
   "id": "43727458",
   "metadata": {
    "ExecuteTime": {
     "end_time": "2023-09-22T11:04:38.519642Z",
     "start_time": "2023-09-22T11:02:23.192930Z"
    }
   },
   "outputs": [],
   "source": [
    "df = pd.read_csv('dat.csv')\n"
   ]
  },
  {
   "cell_type": "code",
   "execution_count": 1,
   "id": "13bf3aef",
   "metadata": {
    "ExecuteTime": {
     "end_time": "2023-09-22T10:53:00.234624Z",
     "start_time": "2023-09-22T10:52:34.236457Z"
    }
   },
   "outputs": [
    {
     "name": "stderr",
     "output_type": "stream",
     "text": [
      "/Users/sanid/miniconda3/envs/tensorflown/lib/python3.10/site-packages/transformers/models/auto/modeling_auto.py:1423: FutureWarning: The class `AutoModelWithLMHead` is deprecated and will be removed in a future version. Please use `AutoModelForCausalLM` for causal language models, `AutoModelForMaskedLM` for masked language models and `AutoModelForSeq2SeqLM` for encoder-decoder models.\n",
      "  warnings.warn(\n",
      "You are using the legacy behaviour of the <class 'transformers.models.t5.tokenization_t5.T5Tokenizer'>. This means that tokens that come after special tokens will not be properly handled. We recommend you to read the related pull request available at https://github.com/huggingface/transformers/pull/24565\n"
     ]
    }
   ],
   "source": [
    "from transformers import AutoTokenizer, AutoModelWithLMHead, SummarizationPipeline\n",
    "import pandas as pd\n",
    "import re\n",
    "\n",
    "pipeline = SummarizationPipeline(\n",
    "    model=AutoModelWithLMHead.from_pretrained(\"SEBIS/code_trans_t5_large_code_comment_generation_java_multitask\"),\n",
    "    tokenizer=AutoTokenizer.from_pretrained(\"SEBIS/code_trans_t5_large_code_comment_generation_java_multitask\", skip_special_tokens=True ),\n",
    ")\n"
   ]
  },
  {
   "cell_type": "code",
   "execution_count": 3,
   "id": "fd8e20ac",
   "metadata": {
    "ExecuteTime": {
     "end_time": "2023-09-22T10:59:50.371487Z",
     "start_time": "2023-09-22T10:59:50.340636Z"
    }
   },
   "outputs": [],
   "source": [
    "def extract_methods(java_code):\n",
    "    # Use a recursive regular expression to find method declarations and their contents\n",
    "    java_lines = java_code.split('\\n')\n",
    "\n",
    "    # Regular expression to find classes\n",
    "    class_pattern = re.compile(r'\\bclass\\s+(\\w+)\\s*{')\n",
    "\n",
    "    # Initialize variables\n",
    "    inside_method = False\n",
    "    open_braces = 0\n",
    "    method_lines = []\n",
    "    mes = []\n",
    "    # Iterate through the lines\n",
    "    for line in java_lines:\n",
    "        # Check if a new method is starting\n",
    "        if not inside_method:\n",
    "            match = re.search(r'\\b(public|private|protected|static)?\\s+\\w+\\s+\\w+\\s*\\([^)]*\\)\\s*{', line)\n",
    "            if match:\n",
    "                inside_method = True\n",
    "                open_braces = 1  # Start counting open braces\n",
    "                method_lines.append(line)\n",
    "        else:\n",
    "            method_lines.append(line)\n",
    "            open_braces += line.count('{')\n",
    "            open_braces -= line.count('}')\n",
    "            if open_braces == 0:\n",
    "                inside_method = False\n",
    "                # Join the method lines and print the method\n",
    "                method_content = '\\n'.join(method_lines)\n",
    "                mes.append(method_content)\n",
    "#                 print(\"Method found:\")\n",
    "#                 print(method_content)\n",
    "                method_lines = []  # Reset for the next method\n",
    "    return mes"
   ]
  },
  {
   "cell_type": "code",
   "execution_count": 17,
   "id": "74847785",
   "metadata": {
    "ExecuteTime": {
     "end_time": "2023-09-22T11:09:44.255706Z",
     "start_time": "2023-09-22T11:09:44.250303Z"
    }
   },
   "outputs": [],
   "source": [
    "ab = df[:100]"
   ]
  },
  {
   "cell_type": "code",
   "execution_count": 8,
   "id": "b8c7db84",
   "metadata": {
    "ExecuteTime": {
     "end_time": "2023-09-22T11:01:22.943849Z",
     "start_time": "2023-09-22T11:01:22.935393Z"
    },
    "scrolled": true
   },
   "outputs": [
    {
     "data": {
      "text/plain": [
       "'<summary>  </summary>\\n/*\\n * Copyright (c) Meta Platforms, Inc. and affiliates.\\n *\\n * This source code is licensed under the MIT license found in the\\n * LICENSE file in the root directory of this source tree.\\n */\\n\\npackage com.facebook.fresco.samples.showcase.drawee;\\n\\nimport android.app.Activity;\\nimport android.content.Intent;\\nimport android.net.Uri;\\nimport android.os.Build;\\nimport android.os.Bundle;\\nimport android.view.LayoutInflater;\\nimport android.view.View;\\nimport android.view.ViewGroup;\\nimport android.widget.TextView;\\nimport android.widget.Toast;\\nimport androidx.annotation.Nullable;\\nimport com.facebook.drawee.view.SimpleDraweeView;\\nimport com.facebook.fresco.samples.showcase.BaseShowcaseFragment;\\nimport com.facebook.fresco.samples.showcase.R;\\nimport com.facebook.fresco.samples.showcase.common.ToggleAnimationClickListener;\\nimport com.facebook.fresco.samples.showcase.permissions.StoragePermissionHelper;\\nimport kotlin.Unit;\\nimport kotlin.jvm.functions.Function1;\\n\\n/** Display images from media pickers. */\\npublic class DraweeMediaPickerFragment extends BaseShowcaseFragment {\\n\\n  private static final int REQUEST_CODE_PICK_MEDIA = 1;\\n\\n  private SimpleDraweeView mSimpleDraweeView;\\n  private TextView mImagePath;\\n\\n  @Nullable\\n  @Override\\n  public View onCreateView(\\n      LayoutInflater  [MASK] , @Nullable ViewGroup container, @Nullable Bundle savedInstanceState) {\\n    return  [MASK] .inflate(R.layout.fragment_drawee_media_picker, container, false);\\n  }\\n\\n  @Override\\n  public void onViewCreated(View view, @Nullable Bundle savedInstanceState) {\\n    mSimpleDraweeView = (SimpleDraweeView) view.findViewById(R.id.drawee_view);\\n    mImagePath = (TextView) view.findViewById(R.id.image_path);\\n\\n    mSimpleDraweeView.setOnClickListener(new ToggleAnimationClickListener(mSimpleDraweeView));\\n\\n    View actionOpenDocumentButton = view.findViewById(R.id.pick_action_open_document);\\n    actionOpenDocumentButton.setOnClickListener(\\n        new View.OnClickListener() {\\n          @Override\\n          public void onClick(View v) {\\n            if (Build.VERSION.SDK_INT >= Build.VERSION_CODES.KITKAT) {\\n              Intent intent = new Intent(Intent.ACTION_OPEN_DOCUMENT);\\n              intent.addCategory(Intent.CATEGORY_OPENABLE);\\n              intent.setType(\"image/*\");\\n              startActivityForResult(intent, REQUEST_CODE_PICK_MEDIA);\\n            } else {\\n              Toast.makeText(\\n                      getContext(),\\n                      R.string.drawee_media_picker_action_open_document_not_supported,\\n                      Toast.LENGTH_SHORT)\\n                  .show();\\n            }\\n          }\\n        });\\n\\n    View actionGetContent = view.findViewById(R.id.pick_action_get_content);\\n    actionGetContent.setOnClickListener(\\n        new View.OnClickListener() {\\n          @Override\\n          public void onClick(View v) {\\n            Intent intent = new Intent(Intent.ACTION_GET_CONTENT);\\n            intent.setType(\"image/*\");\\n            startActivityForResult(intent, REQUEST_CODE_PICK_MEDIA);\\n          }\\n        });\\n\\n    View actionPickButton = view.findViewById(R.id.pick_action_pick);\\n    actionPickButton.setOnClickListener(\\n        new View.OnClickListener() {\\n          @Override\\n          public void onClick(View v) {\\n            StoragePermissionHelper.INSTANCE.withStoragePermission(\\n                getActivity(),\\n                new Function1<Unit, Unit>() {\\n                  @Override\\n                  public Unit invoke(Unit unit) {\\n                    Intent intent =\\n                        new Intent(\\n                            Intent.ACTION_PICK,\\n                            android.provider.MediaStore.Images.Media.EXTERNAL_CONTENT_URI);\\n                    startActivityForResult(intent, REQUEST_CODE_PICK_MEDIA);\\n                    return null;\\n                  }\\n                });\\n          }\\n        });\\n  }\\n\\n  @Override\\n  public void onActivityResult(int requestCode, int resultCode, Intent data) {\\n    if (requestCode == REQUEST_CODE_PICK_MEDIA) {\\n      if (resultCode != Activity.RESULT_OK) {\\n        mSimpleDraweeView.setImageURI((Uri) null);\\n        mImagePath.setText(R.string.drawee_media_picker_no_image);\\n      } else {\\n        mSimpleDraweeView.setImageURI(data.getData());\\n        mImagePath.setText(data.getDataString());\\n      }\\n    } else {\\n      super.onActivityResult(requestCode, resultCode, data);\\n    }\\n  }\\n}\\n'"
      ]
     },
     "execution_count": 8,
     "metadata": {},
     "output_type": "execute_result"
    }
   ],
   "source": [
    "df['X'][6]"
   ]
  },
  {
   "cell_type": "code",
   "execution_count": null,
   "id": "2f047c3a",
   "metadata": {},
   "outputs": [],
   "source": [
    "a['X'][]"
   ]
  },
  {
   "cell_type": "code",
   "execution_count": null,
   "id": "76d776ff",
   "metadata": {
    "ExecuteTime": {
     "start_time": "2023-09-22T11:23:00.809Z"
    }
   },
   "outputs": [
    {
     "name": "stdout",
     "output_type": "stream",
     "text": [
      "0\n",
      "1\n",
      "2\n",
      "3\n",
      "4\n",
      "5\n"
     ]
    },
    {
     "name": "stderr",
     "output_type": "stream",
     "text": [
      "Your max_length is set to 20, but your input_length is only 1. Since this is a summarization task, where outputs shorter than the input are typically wanted, you might consider decreasing max_length manually, e.g. summarizer('...', max_length=0)\n"
     ]
    },
    {
     "name": "stdout",
     "output_type": "stream",
     "text": [
      "6\n"
     ]
    },
    {
     "name": "stderr",
     "output_type": "stream",
     "text": [
      "Your max_length is set to 20, but your input_length is only 1. Since this is a summarization task, where outputs shorter than the input are typically wanted, you might consider decreasing max_length manually, e.g. summarizer('...', max_length=0)\n"
     ]
    },
    {
     "name": "stdout",
     "output_type": "stream",
     "text": [
      "\n",
      "1111111111111\n",
      "7\n",
      "\n",
      "1111111111111\n",
      "8\n"
     ]
    },
    {
     "name": "stderr",
     "output_type": "stream",
     "text": [
      "Your max_length is set to 20, but your input_length is only 1. Since this is a summarization task, where outputs shorter than the input are typically wanted, you might consider decreasing max_length manually, e.g. summarizer('...', max_length=0)\n"
     ]
    },
    {
     "name": "stdout",
     "output_type": "stream",
     "text": [
      "9\n"
     ]
    },
    {
     "name": "stderr",
     "output_type": "stream",
     "text": [
      "Your max_length is set to 20, but your input_length is only 1. Since this is a summarization task, where outputs shorter than the input are typically wanted, you might consider decreasing max_length manually, e.g. summarizer('...', max_length=0)\n"
     ]
    },
    {
     "name": "stdout",
     "output_type": "stream",
     "text": [
      "\n",
      "1111111111111\n",
      "10\n",
      "\n",
      "1111111111111\n",
      "11\n",
      "12\n",
      "13\n"
     ]
    },
    {
     "name": "stderr",
     "output_type": "stream",
     "text": [
      "Your max_length is set to 20, but your input_length is only 1. Since this is a summarization task, where outputs shorter than the input are typically wanted, you might consider decreasing max_length manually, e.g. summarizer('...', max_length=0)\n"
     ]
    },
    {
     "name": "stdout",
     "output_type": "stream",
     "text": [
      "14\n"
     ]
    },
    {
     "name": "stderr",
     "output_type": "stream",
     "text": [
      "Your max_length is set to 20, but your input_length is only 1. Since this is a summarization task, where outputs shorter than the input are typically wanted, you might consider decreasing max_length manually, e.g. summarizer('...', max_length=0)\n"
     ]
    },
    {
     "name": "stdout",
     "output_type": "stream",
     "text": [
      "\n",
      "1111111111111\n",
      "15\n"
     ]
    },
    {
     "name": "stderr",
     "output_type": "stream",
     "text": [
      "Your max_length is set to 20, but your input_length is only 1. Since this is a summarization task, where outputs shorter than the input are typically wanted, you might consider decreasing max_length manually, e.g. summarizer('...', max_length=0)\n"
     ]
    },
    {
     "name": "stdout",
     "output_type": "stream",
     "text": [
      "\n",
      "1111111111111\n",
      "16\n",
      "\n",
      "1111111111111\n",
      "17\n",
      "18\n"
     ]
    },
    {
     "name": "stderr",
     "output_type": "stream",
     "text": [
      "Your max_length is set to 20, but your input_length is only 1. Since this is a summarization task, where outputs shorter than the input are typically wanted, you might consider decreasing max_length manually, e.g. summarizer('...', max_length=0)\n"
     ]
    },
    {
     "name": "stdout",
     "output_type": "stream",
     "text": [
      "19\n",
      "\n",
      "1111111111111\n",
      "20\n",
      "21\n",
      "22\n",
      "23\n"
     ]
    },
    {
     "name": "stderr",
     "output_type": "stream",
     "text": [
      "Your max_length is set to 20, but your input_length is only 1. Since this is a summarization task, where outputs shorter than the input are typically wanted, you might consider decreasing max_length manually, e.g. summarizer('...', max_length=0)\n"
     ]
    },
    {
     "name": "stdout",
     "output_type": "stream",
     "text": [
      "24\n"
     ]
    },
    {
     "name": "stderr",
     "output_type": "stream",
     "text": [
      "Your max_length is set to 20, but your input_length is only 14. Since this is a summarization task, where outputs shorter than the input are typically wanted, you might consider decreasing max_length manually, e.g. summarizer('...', max_length=7)\n"
     ]
    },
    {
     "name": "stdout",
     "output_type": "stream",
     "text": [
      "\n",
      "1111111111111\n",
      "25\n"
     ]
    },
    {
     "name": "stderr",
     "output_type": "stream",
     "text": [
      "Your max_length is set to 20, but your input_length is only 1. Since this is a summarization task, where outputs shorter than the input are typically wanted, you might consider decreasing max_length manually, e.g. summarizer('...', max_length=0)\n"
     ]
    },
    {
     "name": "stdout",
     "output_type": "stream",
     "text": [
      "26\n",
      "\n",
      "1111111111111\n",
      "27\n"
     ]
    },
    {
     "name": "stderr",
     "output_type": "stream",
     "text": [
      "Your max_length is set to 20, but your input_length is only 1. Since this is a summarization task, where outputs shorter than the input are typically wanted, you might consider decreasing max_length manually, e.g. summarizer('...', max_length=0)\n"
     ]
    },
    {
     "name": "stdout",
     "output_type": "stream",
     "text": [
      "28\n",
      "\n",
      "1111111111111\n",
      "29\n"
     ]
    },
    {
     "name": "stderr",
     "output_type": "stream",
     "text": [
      "Your max_length is set to 20, but your input_length is only 1. Since this is a summarization task, where outputs shorter than the input are typically wanted, you might consider decreasing max_length manually, e.g. summarizer('...', max_length=0)\n"
     ]
    },
    {
     "name": "stdout",
     "output_type": "stream",
     "text": [
      "30\n",
      "\n",
      "1111111111111\n",
      "31\n",
      "32\n"
     ]
    },
    {
     "name": "stderr",
     "output_type": "stream",
     "text": [
      "Your max_length is set to 20, but your input_length is only 1. Since this is a summarization task, where outputs shorter than the input are typically wanted, you might consider decreasing max_length manually, e.g. summarizer('...', max_length=0)\n"
     ]
    },
    {
     "name": "stdout",
     "output_type": "stream",
     "text": [
      "33\n",
      "\n",
      "1111111111111\n",
      "34\n",
      "35\n",
      "36\n"
     ]
    },
    {
     "name": "stderr",
     "output_type": "stream",
     "text": [
      "Your max_length is set to 20, but your input_length is only 1. Since this is a summarization task, where outputs shorter than the input are typically wanted, you might consider decreasing max_length manually, e.g. summarizer('...', max_length=0)\n"
     ]
    },
    {
     "name": "stdout",
     "output_type": "stream",
     "text": [
      "37\n"
     ]
    },
    {
     "name": "stderr",
     "output_type": "stream",
     "text": [
      "Your max_length is set to 20, but your input_length is only 1. Since this is a summarization task, where outputs shorter than the input are typically wanted, you might consider decreasing max_length manually, e.g. summarizer('...', max_length=0)\n"
     ]
    },
    {
     "name": "stdout",
     "output_type": "stream",
     "text": [
      "\n",
      "1111111111111\n",
      "38\n",
      "\n",
      "1111111111111\n",
      "39\n"
     ]
    },
    {
     "name": "stderr",
     "output_type": "stream",
     "text": [
      "Your max_length is set to 20, but your input_length is only 1. Since this is a summarization task, where outputs shorter than the input are typically wanted, you might consider decreasing max_length manually, e.g. summarizer('...', max_length=0)\n",
      "Your max_length is set to 20, but your input_length is only 1. Since this is a summarization task, where outputs shorter than the input are typically wanted, you might consider decreasing max_length manually, e.g. summarizer('...', max_length=0)\n"
     ]
    },
    {
     "name": "stdout",
     "output_type": "stream",
     "text": [
      "40\n",
      "\n",
      "1111111111111\n",
      "41\n"
     ]
    },
    {
     "name": "stderr",
     "output_type": "stream",
     "text": [
      "Your max_length is set to 20, but your input_length is only 1. Since this is a summarization task, where outputs shorter than the input are typically wanted, you might consider decreasing max_length manually, e.g. summarizer('...', max_length=0)\n"
     ]
    },
    {
     "name": "stdout",
     "output_type": "stream",
     "text": [
      "\n",
      "1111111111111\n",
      "42\n",
      "\n",
      "1111111111111\n",
      "43\n",
      "44\n"
     ]
    },
    {
     "name": "stderr",
     "output_type": "stream",
     "text": [
      "Your max_length is set to 20, but your input_length is only 1. Since this is a summarization task, where outputs shorter than the input are typically wanted, you might consider decreasing max_length manually, e.g. summarizer('...', max_length=0)\n"
     ]
    },
    {
     "name": "stdout",
     "output_type": "stream",
     "text": [
      "45\n"
     ]
    },
    {
     "name": "stderr",
     "output_type": "stream",
     "text": [
      "Your max_length is set to 20, but your input_length is only 1. Since this is a summarization task, where outputs shorter than the input are typically wanted, you might consider decreasing max_length manually, e.g. summarizer('...', max_length=0)\n",
      "Your max_length is set to 20, but your input_length is only 1. Since this is a summarization task, where outputs shorter than the input are typically wanted, you might consider decreasing max_length manually, e.g. summarizer('...', max_length=0)\n"
     ]
    },
    {
     "name": "stdout",
     "output_type": "stream",
     "text": [
      "\n",
      "1111111111111\n",
      "46\n",
      "\n",
      "1111111111111\n",
      "47\n"
     ]
    },
    {
     "name": "stderr",
     "output_type": "stream",
     "text": [
      "Your max_length is set to 20, but your input_length is only 1. Since this is a summarization task, where outputs shorter than the input are typically wanted, you might consider decreasing max_length manually, e.g. summarizer('...', max_length=0)\n",
      "Your max_length is set to 20, but your input_length is only 1. Since this is a summarization task, where outputs shorter than the input are typically wanted, you might consider decreasing max_length manually, e.g. summarizer('...', max_length=0)\n"
     ]
    },
    {
     "name": "stdout",
     "output_type": "stream",
     "text": [
      "\n",
      "1111111111111\n",
      "48\n",
      "\n",
      "1111111111111\n",
      "49\n",
      "\n",
      "1111111111111\n",
      "50\n",
      "51\n",
      "52\n",
      "53\n",
      "54\n"
     ]
    },
    {
     "name": "stderr",
     "output_type": "stream",
     "text": [
      "Your max_length is set to 20, but your input_length is only 1. Since this is a summarization task, where outputs shorter than the input are typically wanted, you might consider decreasing max_length manually, e.g. summarizer('...', max_length=0)\n"
     ]
    },
    {
     "name": "stdout",
     "output_type": "stream",
     "text": [
      "55\n",
      "\n",
      "1111111111111\n",
      "56\n",
      "57\n",
      "58\n",
      "59\n"
     ]
    },
    {
     "name": "stderr",
     "output_type": "stream",
     "text": [
      "Your max_length is set to 20, but your input_length is only 1. Since this is a summarization task, where outputs shorter than the input are typically wanted, you might consider decreasing max_length manually, e.g. summarizer('...', max_length=0)\n",
      "Your max_length is set to 20, but your input_length is only 1. Since this is a summarization task, where outputs shorter than the input are typically wanted, you might consider decreasing max_length manually, e.g. summarizer('...', max_length=0)\n"
     ]
    },
    {
     "name": "stdout",
     "output_type": "stream",
     "text": [
      "60\n",
      "\n",
      "1111111111111\n",
      "61\n"
     ]
    },
    {
     "name": "stderr",
     "output_type": "stream",
     "text": [
      "Your max_length is set to 20, but your input_length is only 1. Since this is a summarization task, where outputs shorter than the input are typically wanted, you might consider decreasing max_length manually, e.g. summarizer('...', max_length=0)\n"
     ]
    },
    {
     "name": "stdout",
     "output_type": "stream",
     "text": [
      "\n",
      "1111111111111\n",
      "62\n"
     ]
    },
    {
     "name": "stderr",
     "output_type": "stream",
     "text": [
      "Your max_length is set to 20, but your input_length is only 1. Since this is a summarization task, where outputs shorter than the input are typically wanted, you might consider decreasing max_length manually, e.g. summarizer('...', max_length=0)\n"
     ]
    },
    {
     "name": "stdout",
     "output_type": "stream",
     "text": [
      "\n",
      "1111111111111\n",
      "63\n"
     ]
    },
    {
     "name": "stderr",
     "output_type": "stream",
     "text": [
      "Your max_length is set to 20, but your input_length is only 1. Since this is a summarization task, where outputs shorter than the input are typically wanted, you might consider decreasing max_length manually, e.g. summarizer('...', max_length=0)\n"
     ]
    },
    {
     "name": "stdout",
     "output_type": "stream",
     "text": [
      "\n",
      "1111111111111\n",
      "64\n",
      "\n",
      "1111111111111\n",
      "65\n",
      "66\n",
      "67\n"
     ]
    }
   ],
   "source": [
    "t = 0\n",
    "for r in range(ab.shape[0]):\n",
    "    print(r)\n",
    "    text = ab.loc[r]['X']\n",
    "    all_meth = extract_methods(text)\n",
    "    meth = \"\"\n",
    "    for method in all_meth:\n",
    "        ix = method.find('[MASK]')\n",
    "        if ix != -1:\n",
    "            meth = method\n",
    "            break\n",
    "    a = pipeline([meth])[0]['summary_text']\n",
    "    if len(a) < 4:\n",
    "        print(meth)\n",
    "        print(\"1111111111111\")\n",
    "        t+=1\n",
    "#         print(meth)\n",
    "#         print(a)\n",
    "    st = \"<summary> \"\n",
    "    st+= a\n",
    "    st+= \" \"\n",
    "    st+=\"</summary>\\n\"\n",
    "    st+=text\n",
    "    ab.loc[r]['X'] = st\n",
    "    #extract method\n",
    "    #tok_method\n",
    "    #pass to model\n",
    "    #get documentation\n",
    "    #add to string wiht special token\n",
    "    # add to main text\n",
    "    # replace current text"
   ]
  },
  {
   "cell_type": "code",
   "execution_count": 1,
   "id": "d8b549f8",
   "metadata": {
    "ExecuteTime": {
     "end_time": "2023-09-22T11:38:47.695161Z",
     "start_time": "2023-09-22T11:38:47.364148Z"
    }
   },
   "outputs": [
    {
     "ename": "NameError",
     "evalue": "name 't' is not defined",
     "output_type": "error",
     "traceback": [
      "\u001b[0;31m---------------------------------------------------------------------------\u001b[0m",
      "\u001b[0;31mNameError\u001b[0m                                 Traceback (most recent call last)",
      "Cell \u001b[0;32mIn[1], line 1\u001b[0m\n\u001b[0;32m----> 1\u001b[0m \u001b[43mt\u001b[49m\n",
      "\u001b[0;31mNameError\u001b[0m: name 't' is not defined"
     ]
    }
   ],
   "source": [
    "t"
   ]
  },
  {
   "cell_type": "code",
   "execution_count": null,
   "id": "1ce3214a",
   "metadata": {},
   "outputs": [],
   "source": []
  }
 ],
 "metadata": {
  "kernelspec": {
   "display_name": "Python 3.10 (tensorflown)",
   "language": "python",
   "name": "tensorflown"
  },
  "language_info": {
   "codemirror_mode": {
    "name": "ipython",
    "version": 3
   },
   "file_extension": ".py",
   "mimetype": "text/x-python",
   "name": "python",
   "nbconvert_exporter": "python",
   "pygments_lexer": "ipython3",
   "version": "3.10.12"
  },
  "toc": {
   "base_numbering": 1,
   "nav_menu": {},
   "number_sections": true,
   "sideBar": true,
   "skip_h1_title": false,
   "title_cell": "Table of Contents",
   "title_sidebar": "Contents",
   "toc_cell": false,
   "toc_position": {},
   "toc_section_display": true,
   "toc_window_display": false
  }
 },
 "nbformat": 4,
 "nbformat_minor": 5
}
